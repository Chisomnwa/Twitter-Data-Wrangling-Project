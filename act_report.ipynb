{
 "cells": [
  {
   "cell_type": "markdown",
   "id": "6e6a01ef",
   "metadata": {},
   "source": [
    "# Report: act_report\n",
    "\n",
    "Create a **250-word-minimum written report** called \"act_report.pdf\" or \"act_report.html\" that communicates the insights and displays the visualization(s) produced from your wrangles data. This is to be framed as an external document, like a blog post or magazine article, for example."
   ]
  },
  {
   "cell_type": "markdown",
   "id": "7bae629f",
   "metadata": {},
   "source": [
    "<img src= \"A Good Dog.jpg\" style=\"width:550px;height:700px\" Title=\"A good Dog\">"
   ]
  },
  {
   "cell_type": "markdown",
   "id": "aefdc753",
   "metadata": {},
   "source": [
    "**This act report includes the summary of the Data Analysis process that was taken for the data wrangling project.**\n",
    "\n",
    "In this project, I worked with three datasets.\n",
    "\n",
    "Udacity provided the first dataset which is a csv file named `twitter_archive_enhanced.csv`. It contains basic information about 2356 tweets and was downloaded manually. \n",
    "\n",
    "The second dataset was a tsv file named `image_prediction.tsv` which was hosted on udacity server and I programmatically downloaded the file. It contains 2075 predictions made by a neural network that can classify dog breeds. \n",
    "\n",
    "For the third dataset, I scrapped the twitter API using python Tweepy’s Library. This third dataset contains information like the rewetet count, favorite count, followers count and friends count each tweet recieved for 2327 tweets in the file \"tweet_json_text\".\n",
    "\n",
    "During accessing the data, I found out 10 quality issues and 4 tidiness issues. I used a variety of Pandas methods to clean them up.\n",
    "\n",
    "**Here are some insights and visualizations that I got after I merged the three datasets into a master dataset named `twitter_archive_master.csv`.**\n",
    "\n",
    "First I loaded the the master dataset in a pandas dataframe."
   ]
  },
  {
   "cell_type": "code",
   "execution_count": 1,
   "id": "fb470441",
   "metadata": {},
   "outputs": [],
   "source": [
    "import pandas as pd\n",
    "data = pd.read_csv(\"twitter_archive_master.csv\")"
   ]
  },
  {
   "cell_type": "code",
   "execution_count": 2,
   "id": "2dd363f3",
   "metadata": {},
   "outputs": [
    {
     "data": {
      "text/html": [
       "<div>\n",
       "<style scoped>\n",
       "    .dataframe tbody tr th:only-of-type {\n",
       "        vertical-align: middle;\n",
       "    }\n",
       "\n",
       "    .dataframe tbody tr th {\n",
       "        vertical-align: top;\n",
       "    }\n",
       "\n",
       "    .dataframe thead th {\n",
       "        text-align: right;\n",
       "    }\n",
       "</style>\n",
       "<table border=\"1\" class=\"dataframe\">\n",
       "  <thead>\n",
       "    <tr style=\"text-align: right;\">\n",
       "      <th></th>\n",
       "      <th>tweet_id</th>\n",
       "      <th>rating_numerator</th>\n",
       "      <th>rating_denominator</th>\n",
       "      <th>img_num</th>\n",
       "      <th>p1_conf</th>\n",
       "      <th>p2_conf</th>\n",
       "      <th>p3_conf</th>\n",
       "      <th>retweet_count</th>\n",
       "      <th>favorite_count</th>\n",
       "    </tr>\n",
       "  </thead>\n",
       "  <tbody>\n",
       "    <tr>\n",
       "      <th>count</th>\n",
       "      <td>1.986000e+03</td>\n",
       "      <td>1986.000000</td>\n",
       "      <td>1986.000000</td>\n",
       "      <td>1986.000000</td>\n",
       "      <td>1986.000000</td>\n",
       "      <td>1.986000e+03</td>\n",
       "      <td>1.986000e+03</td>\n",
       "      <td>1986.000000</td>\n",
       "      <td>1986.000000</td>\n",
       "    </tr>\n",
       "    <tr>\n",
       "      <th>mean</th>\n",
       "      <td>7.356142e+17</td>\n",
       "      <td>12.281974</td>\n",
       "      <td>10.534240</td>\n",
       "      <td>1.203424</td>\n",
       "      <td>0.593452</td>\n",
       "      <td>1.344853e-01</td>\n",
       "      <td>6.034994e-02</td>\n",
       "      <td>2244.631923</td>\n",
       "      <td>7713.266868</td>\n",
       "    </tr>\n",
       "    <tr>\n",
       "      <th>std</th>\n",
       "      <td>6.740686e+16</td>\n",
       "      <td>41.581180</td>\n",
       "      <td>7.335369</td>\n",
       "      <td>0.561492</td>\n",
       "      <td>0.271961</td>\n",
       "      <td>1.005944e-01</td>\n",
       "      <td>5.091948e-02</td>\n",
       "      <td>4020.794071</td>\n",
       "      <td>11378.788558</td>\n",
       "    </tr>\n",
       "    <tr>\n",
       "      <th>min</th>\n",
       "      <td>6.660209e+17</td>\n",
       "      <td>0.000000</td>\n",
       "      <td>2.000000</td>\n",
       "      <td>1.000000</td>\n",
       "      <td>0.044333</td>\n",
       "      <td>1.011300e-08</td>\n",
       "      <td>1.740170e-10</td>\n",
       "      <td>11.000000</td>\n",
       "      <td>66.000000</td>\n",
       "    </tr>\n",
       "    <tr>\n",
       "      <th>25%</th>\n",
       "      <td>6.758214e+17</td>\n",
       "      <td>10.000000</td>\n",
       "      <td>10.000000</td>\n",
       "      <td>1.000000</td>\n",
       "      <td>0.362656</td>\n",
       "      <td>5.407533e-02</td>\n",
       "      <td>1.624755e-02</td>\n",
       "      <td>495.500000</td>\n",
       "      <td>1637.750000</td>\n",
       "    </tr>\n",
       "    <tr>\n",
       "      <th>50%</th>\n",
       "      <td>7.082494e+17</td>\n",
       "      <td>11.000000</td>\n",
       "      <td>10.000000</td>\n",
       "      <td>1.000000</td>\n",
       "      <td>0.587357</td>\n",
       "      <td>1.175370e-01</td>\n",
       "      <td>4.952715e-02</td>\n",
       "      <td>1080.000000</td>\n",
       "      <td>3468.000000</td>\n",
       "    </tr>\n",
       "    <tr>\n",
       "      <th>75%</th>\n",
       "      <td>7.873791e+17</td>\n",
       "      <td>12.000000</td>\n",
       "      <td>10.000000</td>\n",
       "      <td>1.000000</td>\n",
       "      <td>0.844920</td>\n",
       "      <td>1.951377e-01</td>\n",
       "      <td>9.166433e-02</td>\n",
       "      <td>2559.250000</td>\n",
       "      <td>9562.750000</td>\n",
       "    </tr>\n",
       "    <tr>\n",
       "      <th>max</th>\n",
       "      <td>8.924206e+17</td>\n",
       "      <td>1776.000000</td>\n",
       "      <td>170.000000</td>\n",
       "      <td>4.000000</td>\n",
       "      <td>1.000000</td>\n",
       "      <td>4.880140e-01</td>\n",
       "      <td>2.734190e-01</td>\n",
       "      <td>70778.000000</td>\n",
       "      <td>144938.000000</td>\n",
       "    </tr>\n",
       "  </tbody>\n",
       "</table>\n",
       "</div>"
      ],
      "text/plain": [
       "           tweet_id  rating_numerator  rating_denominator      img_num  \\\n",
       "count  1.986000e+03       1986.000000         1986.000000  1986.000000   \n",
       "mean   7.356142e+17         12.281974           10.534240     1.203424   \n",
       "std    6.740686e+16         41.581180            7.335369     0.561492   \n",
       "min    6.660209e+17          0.000000            2.000000     1.000000   \n",
       "25%    6.758214e+17         10.000000           10.000000     1.000000   \n",
       "50%    7.082494e+17         11.000000           10.000000     1.000000   \n",
       "75%    7.873791e+17         12.000000           10.000000     1.000000   \n",
       "max    8.924206e+17       1776.000000          170.000000     4.000000   \n",
       "\n",
       "           p1_conf       p2_conf       p3_conf  retweet_count  favorite_count  \n",
       "count  1986.000000  1.986000e+03  1.986000e+03    1986.000000     1986.000000  \n",
       "mean      0.593452  1.344853e-01  6.034994e-02    2244.631923     7713.266868  \n",
       "std       0.271961  1.005944e-01  5.091948e-02    4020.794071    11378.788558  \n",
       "min       0.044333  1.011300e-08  1.740170e-10      11.000000       66.000000  \n",
       "25%       0.362656  5.407533e-02  1.624755e-02     495.500000     1637.750000  \n",
       "50%       0.587357  1.175370e-01  4.952715e-02    1080.000000     3468.000000  \n",
       "75%       0.844920  1.951377e-01  9.166433e-02    2559.250000     9562.750000  \n",
       "max       1.000000  4.880140e-01  2.734190e-01   70778.000000   144938.000000  "
      ]
     },
     "execution_count": 2,
     "metadata": {},
     "output_type": "execute_result"
    }
   ],
   "source": [
    "data.describe()"
   ]
  },
  {
   "cell_type": "markdown",
   "id": "e5902cdf",
   "metadata": {},
   "source": [
    "#### Insights\n",
    "\n",
    " - The minimum favorite count is 66, mean is 7714, and the maximum favorite count is 144955\n",
    " \n",
    " - The minimum retweet count is 11, mean is 2245, and the maximum retweet count is 70786\n",
    " \n",
    " - About 32% of the dogs have no name\n",
    " \n",
    " - Image number 1 is the most prominent (frequent)\n",
    "\n",
    " - The merged dataset has 21 columns and 1986 rows, all the rows except for the dog stage column are completely filed with no missing value.\n",
    "\n",
    " - The columns are 'tweet_id', 'timestamp', 'source', 'text', 'expanded_urls', 'rating_numerator', 'rating_denominator', 'name', 'stage', 'retweet_count', 'favorite_count', 'jpg_url', 'img_num', 'p1', 'p1_conf', 'p1_dog', 'p2', 'p2_conf', 'p2_dog', 'p3', 'p3_conf', 'p3_dog'.\n",
    "\n",
    " - Nine of the columns are object data type (string), one is datetime, five are integer data types, three are floats, and the remaining three are boolean data types."
   ]
  },
  {
   "cell_type": "markdown",
   "id": "51a9400f",
   "metadata": {},
   "source": [
    "#### Visualizations"
   ]
  },
  {
   "cell_type": "markdown",
   "id": "1040b2da",
   "metadata": {},
   "source": [
    " 1. The most occcuring image number that corresponds to each tweet's most confident prediction is 1."
   ]
  },
  {
   "cell_type": "markdown",
   "id": "94b36de0",
   "metadata": {},
   "source": [
    "<img src= \"Distribution of tweet image number.JPG\" style=\"width:900px;height:500px\" title=\"Distribution of Tweet Image Number\">"
   ]
  },
  {
   "cell_type": "markdown",
   "id": "d222853e",
   "metadata": {},
   "source": [
    " 2. The most popular dog stage that were rated by the WeRateDogs Twitter account was pupper, follwed by doggo and then puppo."
   ]
  },
  {
   "cell_type": "markdown",
   "id": "85ba3377",
   "metadata": {},
   "source": [
    "<img src= \"Distribution of Dog Stages.JPG\" style=\"width:900px;height:500px\" title=\"Distribution of dog stages\">"
   ]
  },
  {
   "cell_type": "markdown",
   "id": "8bda88b3",
   "metadata": {},
   "source": [
    " 3. From the graph below, there is a positive linear relationship between retweet_count and favorite_count.\n",
    " \n",
    "A reasonable hypothesis is that the most popular tweets get the highest number of retweet count and favorite count. I tested the correlation between retweet_count and favorite_count and the r^2 is 0.928. That is a high value showing a strong correlation between them."
   ]
  },
  {
   "cell_type": "markdown",
   "id": "9f3fe5a9",
   "metadata": {},
   "source": [
    "<img src= \"Linear Correlation Between Retweet count and Favorite count.JPG\" style=\"width:900x;height:500px\" title=\"Linear Correlation bBtween Retweet count and Favorite count\">"
   ]
  },
  {
   "cell_type": "markdown",
   "id": "40c1176a",
   "metadata": {},
   "source": [
    "**That is the summary of the Data Wrangling process!**"
   ]
  },
  {
   "cell_type": "markdown",
   "id": "0623dff0",
   "metadata": {},
   "source": [
    "<img src= \"Good Dog Brents.jpg\" style=\"width:550px;height:550px\" title=\"Two Best Friends Hugging Because They are Good Dog Brents!\">\n"
   ]
  }
 ],
 "metadata": {
  "kernelspec": {
   "display_name": "Python [conda env:StarNPMS] *",
   "language": "python",
   "name": "conda-env-StarNPMS-py"
  },
  "language_info": {
   "codemirror_mode": {
    "name": "ipython",
    "version": 3
   },
   "file_extension": ".py",
   "mimetype": "text/x-python",
   "name": "python",
   "nbconvert_exporter": "python",
   "pygments_lexer": "ipython3",
   "version": "3.9.12"
  }
 },
 "nbformat": 4,
 "nbformat_minor": 5
}
